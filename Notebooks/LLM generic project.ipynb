{
 "cells": [
  {
   "cell_type": "markdown",
   "metadata": {},
   "source": [
    "# A Generic LLM project that can act as the base for future"
   ]
  },
  {
   "cell_type": "code",
   "execution_count": 7,
   "metadata": {},
   "outputs": [
    {
     "name": "stdout",
     "output_type": "stream",
     "text": [
      "Requirement already satisfied: langchain in c:\\users\\hp\\desktop\\ai ml\\langchain\\.venv\\lib\\site-packages (from -r ../requirements.txt (line 1)) (0.3.1)\n",
      "Requirement already satisfied: openai in c:\\users\\hp\\desktop\\ai ml\\langchain\\.venv\\lib\\site-packages (from -r ../requirements.txt (line 2)) (1.50.0)\n",
      "Requirement already satisfied: huggingface_hub in c:\\users\\hp\\desktop\\ai ml\\langchain\\.venv\\lib\\site-packages (from -r ../requirements.txt (line 3)) (0.25.1)\n",
      "Requirement already satisfied: langchain_community in c:\\users\\hp\\desktop\\ai ml\\langchain\\.venv\\lib\\site-packages (from -r ../requirements.txt (line 4)) (0.3.1)\n",
      "Requirement already satisfied: langchain-google-genai in c:\\users\\hp\\desktop\\ai ml\\langchain\\.venv\\lib\\site-packages (from -r ../requirements.txt (line 5)) (2.0.0)\n",
      "Requirement already satisfied: python-dotenv in c:\\users\\hp\\desktop\\ai ml\\langchain\\.venv\\lib\\site-packages (from -r ../requirements.txt (line 6)) (1.0.1)\n",
      "Requirement already satisfied: streamlit in c:\\users\\hp\\desktop\\ai ml\\langchain\\.venv\\lib\\site-packages (from -r ../requirements.txt (line 7)) (1.38.0)\n",
      "Requirement already satisfied: tiktoken in c:\\users\\hp\\desktop\\ai ml\\langchain\\.venv\\lib\\site-packages (from -r ../requirements.txt (line 8)) (0.7.0)\n",
      "Requirement already satisfied: pinecone in c:\\users\\hp\\desktop\\ai ml\\langchain\\.venv\\lib\\site-packages (from -r ../requirements.txt (line 9)) (5.3.1)\n",
      "Collecting pypdf (from -r ../requirements.txt (line 10))\n",
      "  Downloading pypdf-5.0.1-py3-none-any.whl.metadata (7.4 kB)\n",
      "Requirement already satisfied: PyYAML>=5.3 in c:\\users\\hp\\desktop\\ai ml\\langchain\\.venv\\lib\\site-packages (from langchain->-r ../requirements.txt (line 1)) (6.0.2)\n",
      "Requirement already satisfied: SQLAlchemy<3,>=1.4 in c:\\users\\hp\\desktop\\ai ml\\langchain\\.venv\\lib\\site-packages (from langchain->-r ../requirements.txt (line 1)) (2.0.35)\n",
      "Requirement already satisfied: aiohttp<4.0.0,>=3.8.3 in c:\\users\\hp\\desktop\\ai ml\\langchain\\.venv\\lib\\site-packages (from langchain->-r ../requirements.txt (line 1)) (3.10.6)\n",
      "Requirement already satisfied: async-timeout<5.0.0,>=4.0.0 in c:\\users\\hp\\desktop\\ai ml\\langchain\\.venv\\lib\\site-packages (from langchain->-r ../requirements.txt (line 1)) (4.0.3)\n",
      "Requirement already satisfied: langchain-core<0.4.0,>=0.3.6 in c:\\users\\hp\\desktop\\ai ml\\langchain\\.venv\\lib\\site-packages (from langchain->-r ../requirements.txt (line 1)) (0.3.6)\n",
      "Requirement already satisfied: langchain-text-splitters<0.4.0,>=0.3.0 in c:\\users\\hp\\desktop\\ai ml\\langchain\\.venv\\lib\\site-packages (from langchain->-r ../requirements.txt (line 1)) (0.3.0)\n",
      "Requirement already satisfied: langsmith<0.2.0,>=0.1.17 in c:\\users\\hp\\desktop\\ai ml\\langchain\\.venv\\lib\\site-packages (from langchain->-r ../requirements.txt (line 1)) (0.1.129)\n",
      "Requirement already satisfied: numpy<2,>=1 in c:\\users\\hp\\desktop\\ai ml\\langchain\\.venv\\lib\\site-packages (from langchain->-r ../requirements.txt (line 1)) (1.26.4)\n",
      "Requirement already satisfied: pydantic<3.0.0,>=2.7.4 in c:\\users\\hp\\desktop\\ai ml\\langchain\\.venv\\lib\\site-packages (from langchain->-r ../requirements.txt (line 1)) (2.9.2)\n",
      "Requirement already satisfied: requests<3,>=2 in c:\\users\\hp\\desktop\\ai ml\\langchain\\.venv\\lib\\site-packages (from langchain->-r ../requirements.txt (line 1)) (2.32.3)\n",
      "Requirement already satisfied: tenacity!=8.4.0,<9.0.0,>=8.1.0 in c:\\users\\hp\\desktop\\ai ml\\langchain\\.venv\\lib\\site-packages (from langchain->-r ../requirements.txt (line 1)) (8.5.0)\n",
      "Requirement already satisfied: anyio<5,>=3.5.0 in c:\\users\\hp\\desktop\\ai ml\\langchain\\.venv\\lib\\site-packages (from openai->-r ../requirements.txt (line 2)) (4.6.0)\n",
      "Requirement already satisfied: distro<2,>=1.7.0 in c:\\users\\hp\\desktop\\ai ml\\langchain\\.venv\\lib\\site-packages (from openai->-r ../requirements.txt (line 2)) (1.9.0)\n",
      "Requirement already satisfied: httpx<1,>=0.23.0 in c:\\users\\hp\\desktop\\ai ml\\langchain\\.venv\\lib\\site-packages (from openai->-r ../requirements.txt (line 2)) (0.27.2)\n",
      "Requirement already satisfied: jiter<1,>=0.4.0 in c:\\users\\hp\\desktop\\ai ml\\langchain\\.venv\\lib\\site-packages (from openai->-r ../requirements.txt (line 2)) (0.5.0)\n",
      "Requirement already satisfied: sniffio in c:\\users\\hp\\desktop\\ai ml\\langchain\\.venv\\lib\\site-packages (from openai->-r ../requirements.txt (line 2)) (1.3.1)\n",
      "Requirement already satisfied: tqdm>4 in c:\\users\\hp\\desktop\\ai ml\\langchain\\.venv\\lib\\site-packages (from openai->-r ../requirements.txt (line 2)) (4.66.5)\n",
      "Requirement already satisfied: typing-extensions<5,>=4.11 in c:\\users\\hp\\desktop\\ai ml\\langchain\\.venv\\lib\\site-packages (from openai->-r ../requirements.txt (line 2)) (4.12.2)\n",
      "Requirement already satisfied: filelock in c:\\users\\hp\\desktop\\ai ml\\langchain\\.venv\\lib\\site-packages (from huggingface_hub->-r ../requirements.txt (line 3)) (3.16.1)\n",
      "Requirement already satisfied: fsspec>=2023.5.0 in c:\\users\\hp\\desktop\\ai ml\\langchain\\.venv\\lib\\site-packages (from huggingface_hub->-r ../requirements.txt (line 3)) (2024.9.0)\n",
      "Requirement already satisfied: packaging>=20.9 in c:\\users\\hp\\desktop\\ai ml\\langchain\\.venv\\lib\\site-packages (from huggingface_hub->-r ../requirements.txt (line 3)) (24.1)\n",
      "Requirement already satisfied: dataclasses-json<0.7,>=0.5.7 in c:\\users\\hp\\desktop\\ai ml\\langchain\\.venv\\lib\\site-packages (from langchain_community->-r ../requirements.txt (line 4)) (0.6.7)\n",
      "Requirement already satisfied: pydantic-settings<3.0.0,>=2.4.0 in c:\\users\\hp\\desktop\\ai ml\\langchain\\.venv\\lib\\site-packages (from langchain_community->-r ../requirements.txt (line 4)) (2.5.2)\n",
      "Requirement already satisfied: google-generativeai<0.8.0,>=0.7.0 in c:\\users\\hp\\desktop\\ai ml\\langchain\\.venv\\lib\\site-packages (from langchain-google-genai->-r ../requirements.txt (line 5)) (0.7.2)\n",
      "Requirement already satisfied: altair<6,>=4.0 in c:\\users\\hp\\desktop\\ai ml\\langchain\\.venv\\lib\\site-packages (from streamlit->-r ../requirements.txt (line 7)) (5.4.1)\n",
      "Requirement already satisfied: blinker<2,>=1.0.0 in c:\\users\\hp\\desktop\\ai ml\\langchain\\.venv\\lib\\site-packages (from streamlit->-r ../requirements.txt (line 7)) (1.8.2)\n",
      "Requirement already satisfied: cachetools<6,>=4.0 in c:\\users\\hp\\desktop\\ai ml\\langchain\\.venv\\lib\\site-packages (from streamlit->-r ../requirements.txt (line 7)) (5.5.0)\n",
      "Requirement already satisfied: click<9,>=7.0 in c:\\users\\hp\\desktop\\ai ml\\langchain\\.venv\\lib\\site-packages (from streamlit->-r ../requirements.txt (line 7)) (8.1.7)\n",
      "Requirement already satisfied: pandas<3,>=1.3.0 in c:\\users\\hp\\desktop\\ai ml\\langchain\\.venv\\lib\\site-packages (from streamlit->-r ../requirements.txt (line 7)) (2.2.3)\n",
      "Requirement already satisfied: pillow<11,>=7.1.0 in c:\\users\\hp\\desktop\\ai ml\\langchain\\.venv\\lib\\site-packages (from streamlit->-r ../requirements.txt (line 7)) (10.4.0)\n",
      "Requirement already satisfied: protobuf<6,>=3.20 in c:\\users\\hp\\desktop\\ai ml\\langchain\\.venv\\lib\\site-packages (from streamlit->-r ../requirements.txt (line 7)) (4.25.5)\n",
      "Requirement already satisfied: pyarrow>=7.0 in c:\\users\\hp\\desktop\\ai ml\\langchain\\.venv\\lib\\site-packages (from streamlit->-r ../requirements.txt (line 7)) (17.0.0)\n",
      "Requirement already satisfied: rich<14,>=10.14.0 in c:\\users\\hp\\desktop\\ai ml\\langchain\\.venv\\lib\\site-packages (from streamlit->-r ../requirements.txt (line 7)) (13.8.1)\n",
      "Requirement already satisfied: toml<2,>=0.10.1 in c:\\users\\hp\\desktop\\ai ml\\langchain\\.venv\\lib\\site-packages (from streamlit->-r ../requirements.txt (line 7)) (0.10.2)\n",
      "Requirement already satisfied: gitpython!=3.1.19,<4,>=3.0.7 in c:\\users\\hp\\desktop\\ai ml\\langchain\\.venv\\lib\\site-packages (from streamlit->-r ../requirements.txt (line 7)) (3.1.43)\n",
      "Requirement already satisfied: pydeck<1,>=0.8.0b4 in c:\\users\\hp\\desktop\\ai ml\\langchain\\.venv\\lib\\site-packages (from streamlit->-r ../requirements.txt (line 7)) (0.9.1)\n",
      "Requirement already satisfied: tornado<7,>=6.0.3 in c:\\users\\hp\\desktop\\ai ml\\langchain\\.venv\\lib\\site-packages (from streamlit->-r ../requirements.txt (line 7)) (6.4.1)\n",
      "Requirement already satisfied: watchdog<5,>=2.1.5 in c:\\users\\hp\\desktop\\ai ml\\langchain\\.venv\\lib\\site-packages (from streamlit->-r ../requirements.txt (line 7)) (4.0.2)\n",
      "Requirement already satisfied: regex>=2022.1.18 in c:\\users\\hp\\desktop\\ai ml\\langchain\\.venv\\lib\\site-packages (from tiktoken->-r ../requirements.txt (line 8)) (2024.9.11)\n",
      "Requirement already satisfied: certifi>=2019.11.17 in c:\\users\\hp\\desktop\\ai ml\\langchain\\.venv\\lib\\site-packages (from pinecone->-r ../requirements.txt (line 9)) (2024.8.30)\n",
      "Requirement already satisfied: pinecone-plugin-inference<2.0.0,>=1.1.0 in c:\\users\\hp\\desktop\\ai ml\\langchain\\.venv\\lib\\site-packages (from pinecone->-r ../requirements.txt (line 9)) (1.1.0)\n",
      "Requirement already satisfied: pinecone-plugin-interface<0.0.8,>=0.0.7 in c:\\users\\hp\\desktop\\ai ml\\langchain\\.venv\\lib\\site-packages (from pinecone->-r ../requirements.txt (line 9)) (0.0.7)\n",
      "Requirement already satisfied: python-dateutil>=2.5.3 in c:\\users\\hp\\desktop\\ai ml\\langchain\\.venv\\lib\\site-packages (from pinecone->-r ../requirements.txt (line 9)) (2.9.0.post0)\n",
      "Requirement already satisfied: urllib3>=1.26.0 in c:\\users\\hp\\desktop\\ai ml\\langchain\\.venv\\lib\\site-packages (from pinecone->-r ../requirements.txt (line 9)) (2.2.3)\n",
      "Requirement already satisfied: aiohappyeyeballs>=2.3.0 in c:\\users\\hp\\desktop\\ai ml\\langchain\\.venv\\lib\\site-packages (from aiohttp<4.0.0,>=3.8.3->langchain->-r ../requirements.txt (line 1)) (2.4.2)\n",
      "Requirement already satisfied: aiosignal>=1.1.2 in c:\\users\\hp\\desktop\\ai ml\\langchain\\.venv\\lib\\site-packages (from aiohttp<4.0.0,>=3.8.3->langchain->-r ../requirements.txt (line 1)) (1.3.1)\n",
      "Requirement already satisfied: attrs>=17.3.0 in c:\\users\\hp\\desktop\\ai ml\\langchain\\.venv\\lib\\site-packages (from aiohttp<4.0.0,>=3.8.3->langchain->-r ../requirements.txt (line 1)) (24.2.0)\n",
      "Requirement already satisfied: frozenlist>=1.1.1 in c:\\users\\hp\\desktop\\ai ml\\langchain\\.venv\\lib\\site-packages (from aiohttp<4.0.0,>=3.8.3->langchain->-r ../requirements.txt (line 1)) (1.4.1)\n",
      "Requirement already satisfied: multidict<7.0,>=4.5 in c:\\users\\hp\\desktop\\ai ml\\langchain\\.venv\\lib\\site-packages (from aiohttp<4.0.0,>=3.8.3->langchain->-r ../requirements.txt (line 1)) (6.1.0)\n",
      "Requirement already satisfied: yarl<2.0,>=1.12.0 in c:\\users\\hp\\desktop\\ai ml\\langchain\\.venv\\lib\\site-packages (from aiohttp<4.0.0,>=3.8.3->langchain->-r ../requirements.txt (line 1)) (1.13.0)\n",
      "Requirement already satisfied: jinja2 in c:\\users\\hp\\desktop\\ai ml\\langchain\\.venv\\lib\\site-packages (from altair<6,>=4.0->streamlit->-r ../requirements.txt (line 7)) (3.1.4)\n",
      "Requirement already satisfied: jsonschema>=3.0 in c:\\users\\hp\\desktop\\ai ml\\langchain\\.venv\\lib\\site-packages (from altair<6,>=4.0->streamlit->-r ../requirements.txt (line 7)) (4.23.0)\n",
      "Requirement already satisfied: narwhals>=1.5.2 in c:\\users\\hp\\desktop\\ai ml\\langchain\\.venv\\lib\\site-packages (from altair<6,>=4.0->streamlit->-r ../requirements.txt (line 7)) (1.8.3)\n",
      "Requirement already satisfied: idna>=2.8 in c:\\users\\hp\\desktop\\ai ml\\langchain\\.venv\\lib\\site-packages (from anyio<5,>=3.5.0->openai->-r ../requirements.txt (line 2)) (3.10)\n",
      "Requirement already satisfied: exceptiongroup>=1.0.2 in c:\\users\\hp\\desktop\\ai ml\\langchain\\.venv\\lib\\site-packages (from anyio<5,>=3.5.0->openai->-r ../requirements.txt (line 2)) (1.2.2)\n",
      "Requirement already satisfied: colorama in c:\\users\\hp\\desktop\\ai ml\\langchain\\.venv\\lib\\site-packages (from click<9,>=7.0->streamlit->-r ../requirements.txt (line 7)) (0.4.6)\n",
      "Requirement already satisfied: marshmallow<4.0.0,>=3.18.0 in c:\\users\\hp\\desktop\\ai ml\\langchain\\.venv\\lib\\site-packages (from dataclasses-json<0.7,>=0.5.7->langchain_community->-r ../requirements.txt (line 4)) (3.22.0)\n",
      "Requirement already satisfied: typing-inspect<1,>=0.4.0 in c:\\users\\hp\\desktop\\ai ml\\langchain\\.venv\\lib\\site-packages (from dataclasses-json<0.7,>=0.5.7->langchain_community->-r ../requirements.txt (line 4)) (0.9.0)\n",
      "Requirement already satisfied: gitdb<5,>=4.0.1 in c:\\users\\hp\\desktop\\ai ml\\langchain\\.venv\\lib\\site-packages (from gitpython!=3.1.19,<4,>=3.0.7->streamlit->-r ../requirements.txt (line 7)) (4.0.11)\n",
      "Requirement already satisfied: google-ai-generativelanguage==0.6.6 in c:\\users\\hp\\desktop\\ai ml\\langchain\\.venv\\lib\\site-packages (from google-generativeai<0.8.0,>=0.7.0->langchain-google-genai->-r ../requirements.txt (line 5)) (0.6.6)\n",
      "Requirement already satisfied: google-api-core in c:\\users\\hp\\desktop\\ai ml\\langchain\\.venv\\lib\\site-packages (from google-generativeai<0.8.0,>=0.7.0->langchain-google-genai->-r ../requirements.txt (line 5)) (2.20.0)\n",
      "Requirement already satisfied: google-api-python-client in c:\\users\\hp\\desktop\\ai ml\\langchain\\.venv\\lib\\site-packages (from google-generativeai<0.8.0,>=0.7.0->langchain-google-genai->-r ../requirements.txt (line 5)) (2.147.0)\n",
      "Requirement already satisfied: google-auth>=2.15.0 in c:\\users\\hp\\desktop\\ai ml\\langchain\\.venv\\lib\\site-packages (from google-generativeai<0.8.0,>=0.7.0->langchain-google-genai->-r ../requirements.txt (line 5)) (2.35.0)\n",
      "Requirement already satisfied: proto-plus<2.0.0dev,>=1.22.3 in c:\\users\\hp\\desktop\\ai ml\\langchain\\.venv\\lib\\site-packages (from google-ai-generativelanguage==0.6.6->google-generativeai<0.8.0,>=0.7.0->langchain-google-genai->-r ../requirements.txt (line 5)) (1.24.0)\n",
      "Requirement already satisfied: httpcore==1.* in c:\\users\\hp\\desktop\\ai ml\\langchain\\.venv\\lib\\site-packages (from httpx<1,>=0.23.0->openai->-r ../requirements.txt (line 2)) (1.0.5)\n",
      "Requirement already satisfied: h11<0.15,>=0.13 in c:\\users\\hp\\desktop\\ai ml\\langchain\\.venv\\lib\\site-packages (from httpcore==1.*->httpx<1,>=0.23.0->openai->-r ../requirements.txt (line 2)) (0.14.0)\n",
      "Requirement already satisfied: jsonpatch<2.0,>=1.33 in c:\\users\\hp\\desktop\\ai ml\\langchain\\.venv\\lib\\site-packages (from langchain-core<0.4.0,>=0.3.6->langchain->-r ../requirements.txt (line 1)) (1.33)\n",
      "Requirement already satisfied: orjson<4.0.0,>=3.9.14 in c:\\users\\hp\\desktop\\ai ml\\langchain\\.venv\\lib\\site-packages (from langsmith<0.2.0,>=0.1.17->langchain->-r ../requirements.txt (line 1)) (3.10.7)\n",
      "Requirement already satisfied: pytz>=2020.1 in c:\\users\\hp\\desktop\\ai ml\\langchain\\.venv\\lib\\site-packages (from pandas<3,>=1.3.0->streamlit->-r ../requirements.txt (line 7)) (2024.2)\n",
      "Requirement already satisfied: tzdata>=2022.7 in c:\\users\\hp\\desktop\\ai ml\\langchain\\.venv\\lib\\site-packages (from pandas<3,>=1.3.0->streamlit->-r ../requirements.txt (line 7)) (2024.2)\n",
      "Requirement already satisfied: annotated-types>=0.6.0 in c:\\users\\hp\\desktop\\ai ml\\langchain\\.venv\\lib\\site-packages (from pydantic<3.0.0,>=2.7.4->langchain->-r ../requirements.txt (line 1)) (0.7.0)\n",
      "Requirement already satisfied: pydantic-core==2.23.4 in c:\\users\\hp\\desktop\\ai ml\\langchain\\.venv\\lib\\site-packages (from pydantic<3.0.0,>=2.7.4->langchain->-r ../requirements.txt (line 1)) (2.23.4)\n",
      "Requirement already satisfied: six>=1.5 in c:\\users\\hp\\desktop\\ai ml\\langchain\\.venv\\lib\\site-packages (from python-dateutil>=2.5.3->pinecone->-r ../requirements.txt (line 9)) (1.16.0)\n",
      "Requirement already satisfied: charset-normalizer<4,>=2 in c:\\users\\hp\\desktop\\ai ml\\langchain\\.venv\\lib\\site-packages (from requests<3,>=2->langchain->-r ../requirements.txt (line 1)) (3.3.2)\n",
      "Requirement already satisfied: markdown-it-py>=2.2.0 in c:\\users\\hp\\desktop\\ai ml\\langchain\\.venv\\lib\\site-packages (from rich<14,>=10.14.0->streamlit->-r ../requirements.txt (line 7)) (3.0.0)\n",
      "Requirement already satisfied: pygments<3.0.0,>=2.13.0 in c:\\users\\hp\\desktop\\ai ml\\langchain\\.venv\\lib\\site-packages (from rich<14,>=10.14.0->streamlit->-r ../requirements.txt (line 7)) (2.18.0)\n",
      "Requirement already satisfied: greenlet!=0.4.17 in c:\\users\\hp\\desktop\\ai ml\\langchain\\.venv\\lib\\site-packages (from SQLAlchemy<3,>=1.4->langchain->-r ../requirements.txt (line 1)) (3.1.1)\n",
      "Requirement already satisfied: smmap<6,>=3.0.1 in c:\\users\\hp\\desktop\\ai ml\\langchain\\.venv\\lib\\site-packages (from gitdb<5,>=4.0.1->gitpython!=3.1.19,<4,>=3.0.7->streamlit->-r ../requirements.txt (line 7)) (5.0.1)\n",
      "Requirement already satisfied: googleapis-common-protos<2.0.dev0,>=1.56.2 in c:\\users\\hp\\desktop\\ai ml\\langchain\\.venv\\lib\\site-packages (from google-api-core->google-generativeai<0.8.0,>=0.7.0->langchain-google-genai->-r ../requirements.txt (line 5)) (1.65.0)\n",
      "Requirement already satisfied: pyasn1-modules>=0.2.1 in c:\\users\\hp\\desktop\\ai ml\\langchain\\.venv\\lib\\site-packages (from google-auth>=2.15.0->google-generativeai<0.8.0,>=0.7.0->langchain-google-genai->-r ../requirements.txt (line 5)) (0.4.1)\n",
      "Requirement already satisfied: rsa<5,>=3.1.4 in c:\\users\\hp\\desktop\\ai ml\\langchain\\.venv\\lib\\site-packages (from google-auth>=2.15.0->google-generativeai<0.8.0,>=0.7.0->langchain-google-genai->-r ../requirements.txt (line 5)) (4.9)\n",
      "Requirement already satisfied: MarkupSafe>=2.0 in c:\\users\\hp\\desktop\\ai ml\\langchain\\.venv\\lib\\site-packages (from jinja2->altair<6,>=4.0->streamlit->-r ../requirements.txt (line 7)) (2.1.5)\n",
      "Requirement already satisfied: jsonpointer>=1.9 in c:\\users\\hp\\desktop\\ai ml\\langchain\\.venv\\lib\\site-packages (from jsonpatch<2.0,>=1.33->langchain-core<0.4.0,>=0.3.6->langchain->-r ../requirements.txt (line 1)) (3.0.0)\n",
      "Requirement already satisfied: jsonschema-specifications>=2023.03.6 in c:\\users\\hp\\desktop\\ai ml\\langchain\\.venv\\lib\\site-packages (from jsonschema>=3.0->altair<6,>=4.0->streamlit->-r ../requirements.txt (line 7)) (2023.12.1)\n",
      "Requirement already satisfied: referencing>=0.28.4 in c:\\users\\hp\\desktop\\ai ml\\langchain\\.venv\\lib\\site-packages (from jsonschema>=3.0->altair<6,>=4.0->streamlit->-r ../requirements.txt (line 7)) (0.35.1)\n",
      "Requirement already satisfied: rpds-py>=0.7.1 in c:\\users\\hp\\desktop\\ai ml\\langchain\\.venv\\lib\\site-packages (from jsonschema>=3.0->altair<6,>=4.0->streamlit->-r ../requirements.txt (line 7)) (0.20.0)\n",
      "Requirement already satisfied: mdurl~=0.1 in c:\\users\\hp\\desktop\\ai ml\\langchain\\.venv\\lib\\site-packages (from markdown-it-py>=2.2.0->rich<14,>=10.14.0->streamlit->-r ../requirements.txt (line 7)) (0.1.2)\n",
      "Requirement already satisfied: mypy-extensions>=0.3.0 in c:\\users\\hp\\desktop\\ai ml\\langchain\\.venv\\lib\\site-packages (from typing-inspect<1,>=0.4.0->dataclasses-json<0.7,>=0.5.7->langchain_community->-r ../requirements.txt (line 4)) (1.0.0)\n",
      "Requirement already satisfied: httplib2<1.dev0,>=0.19.0 in c:\\users\\hp\\desktop\\ai ml\\langchain\\.venv\\lib\\site-packages (from google-api-python-client->google-generativeai<0.8.0,>=0.7.0->langchain-google-genai->-r ../requirements.txt (line 5)) (0.22.0)\n",
      "Requirement already satisfied: google-auth-httplib2<1.0.0,>=0.2.0 in c:\\users\\hp\\desktop\\ai ml\\langchain\\.venv\\lib\\site-packages (from google-api-python-client->google-generativeai<0.8.0,>=0.7.0->langchain-google-genai->-r ../requirements.txt (line 5)) (0.2.0)\n",
      "Requirement already satisfied: uritemplate<5,>=3.0.1 in c:\\users\\hp\\desktop\\ai ml\\langchain\\.venv\\lib\\site-packages (from google-api-python-client->google-generativeai<0.8.0,>=0.7.0->langchain-google-genai->-r ../requirements.txt (line 5)) (4.1.1)\n",
      "Requirement already satisfied: grpcio<2.0dev,>=1.33.2 in c:\\users\\hp\\desktop\\ai ml\\langchain\\.venv\\lib\\site-packages (from google-api-core[grpc]!=2.0.*,!=2.1.*,!=2.10.*,!=2.2.*,!=2.3.*,!=2.4.*,!=2.5.*,!=2.6.*,!=2.7.*,!=2.8.*,!=2.9.*,<3.0.0dev,>=1.34.1->google-ai-generativelanguage==0.6.6->google-generativeai<0.8.0,>=0.7.0->langchain-google-genai->-r ../requirements.txt (line 5)) (1.66.1)\n",
      "Requirement already satisfied: grpcio-status<2.0.dev0,>=1.33.2 in c:\\users\\hp\\desktop\\ai ml\\langchain\\.venv\\lib\\site-packages (from google-api-core[grpc]!=2.0.*,!=2.1.*,!=2.10.*,!=2.2.*,!=2.3.*,!=2.4.*,!=2.5.*,!=2.6.*,!=2.7.*,!=2.8.*,!=2.9.*,<3.0.0dev,>=1.34.1->google-ai-generativelanguage==0.6.6->google-generativeai<0.8.0,>=0.7.0->langchain-google-genai->-r ../requirements.txt (line 5)) (1.62.3)\n",
      "Requirement already satisfied: pyparsing!=3.0.0,!=3.0.1,!=3.0.2,!=3.0.3,<4,>=2.4.2 in c:\\users\\hp\\desktop\\ai ml\\langchain\\.venv\\lib\\site-packages (from httplib2<1.dev0,>=0.19.0->google-api-python-client->google-generativeai<0.8.0,>=0.7.0->langchain-google-genai->-r ../requirements.txt (line 5)) (3.1.4)\n",
      "Requirement already satisfied: pyasn1<0.7.0,>=0.4.6 in c:\\users\\hp\\desktop\\ai ml\\langchain\\.venv\\lib\\site-packages (from pyasn1-modules>=0.2.1->google-auth>=2.15.0->google-generativeai<0.8.0,>=0.7.0->langchain-google-genai->-r ../requirements.txt (line 5)) (0.6.1)\n",
      "Downloading pypdf-5.0.1-py3-none-any.whl (294 kB)\n",
      "Installing collected packages: pypdf\n",
      "Successfully installed pypdf-5.0.1\n",
      "Note: you may need to restart the kernel to use updated packages.\n"
     ]
    }
   ],
   "source": [
    "%pip install -r ../requirements.txt"
   ]
  },
  {
   "cell_type": "code",
   "execution_count": 1,
   "metadata": {},
   "outputs": [
    {
     "name": "stderr",
     "output_type": "stream",
     "text": [
      "c:\\Users\\HP\\Desktop\\ai ml\\LangChain\\.venv\\lib\\site-packages\\pinecone\\data\\index.py:1: TqdmWarning: IProgress not found. Please update jupyter and ipywidgets. See https://ipywidgets.readthedocs.io/en/stable/user_install.html\n",
      "  from tqdm.autonotebook import tqdm\n"
     ]
    }
   ],
   "source": [
    "import openai\n",
    "import langchain\n",
    "import pinecone \n",
    "from langchain.document_loaders import PyPDFDirectoryLoader\n",
    "from langchain.text_splitter import RecursiveCharacterTextSplitter\n",
    "from langchain.embeddings.openai import OpenAIEmbeddings\n",
    "from langchain.vectorstores import Pinecone\n",
    "from langchain.llms import OpenAI"
   ]
  },
  {
   "cell_type": "code",
   "execution_count": 2,
   "metadata": {},
   "outputs": [
    {
     "data": {
      "text/plain": [
       "True"
      ]
     },
     "execution_count": 2,
     "metadata": {},
     "output_type": "execute_result"
    }
   ],
   "source": [
    "from dotenv import load_dotenv\n",
    "load_dotenv()"
   ]
  },
  {
   "cell_type": "code",
   "execution_count": 3,
   "metadata": {},
   "outputs": [
    {
     "data": {
      "text/plain": [
       "58"
      ]
     },
     "execution_count": 3,
     "metadata": {},
     "output_type": "execute_result"
    }
   ],
   "source": [
    "import os\n",
    "## Lets Read the document\n",
    "def read_doc(directory):\n",
    "    file_loader=PyPDFDirectoryLoader(directory)\n",
    "    documents=file_loader.load()\n",
    "    return documents\n",
    "doc=read_doc('../Data')\n",
    "len(doc)"
   ]
  },
  {
   "cell_type": "code",
   "execution_count": 4,
   "metadata": {},
   "outputs": [],
   "source": [
    "## Divide the docs into chunks\n",
    "### https://api.python.langchain.com/en/latest/text_splitter/langchain.text_splitter.RecursiveCharacterTextSplitter.html#\n",
    "def chunk_data(docs,chunk_size=800,chunk_overlap=50):\n",
    "    text_splitter=RecursiveCharacterTextSplitter(chunk_size=chunk_size,chunk_overlap=chunk_overlap)\n",
    "    doc=text_splitter.split_documents(docs)\n",
    "    return doc"
   ]
  },
  {
   "cell_type": "code",
   "execution_count": 5,
   "metadata": {},
   "outputs": [
    {
     "data": {
      "text/plain": [
       "141"
      ]
     },
     "execution_count": 5,
     "metadata": {},
     "output_type": "execute_result"
    }
   ],
   "source": [
    "documents=chunk_data(docs=doc)\n",
    "len(documents)"
   ]
  },
  {
   "cell_type": "markdown",
   "metadata": {},
   "source": [
    "_using gemini inplace of openai_"
   ]
  },
  {
   "cell_type": "code",
   "execution_count": 6,
   "metadata": {},
   "outputs": [],
   "source": [
    "from langchain_google_genai import GoogleGenerativeAIEmbeddings\n",
    "import google.generativeai as genai\n",
    "from langchain_google_genai import ChatGoogleGenerativeAI"
   ]
  },
  {
   "cell_type": "code",
   "execution_count": 7,
   "metadata": {},
   "outputs": [
    {
     "data": {
      "text/plain": [
       "GoogleGenerativeAIEmbeddings(client=<google.ai.generativelanguage_v1beta.services.generative_service.client.GenerativeServiceClient object at 0x0000014320C3F730>, model='models/embedding-001', task_type=None, google_api_key=SecretStr('**********'), credentials=None, client_options=None, transport=None, request_options=None)"
      ]
     },
     "execution_count": 7,
     "metadata": {},
     "output_type": "execute_result"
    }
   ],
   "source": [
    "embeddings = GoogleGenerativeAIEmbeddings(model = \"models/embedding-001\")\n",
    "embeddings"
   ]
  },
  {
   "cell_type": "code",
   "execution_count": 8,
   "metadata": {},
   "outputs": [
    {
     "name": "stdout",
     "output_type": "stream",
     "text": [
      "768\n"
     ]
    }
   ],
   "source": [
    "vectors = embeddings.embed_query('How are you?')\n",
    "print(len(vectors))"
   ]
  },
  {
   "cell_type": "code",
   "execution_count": 9,
   "metadata": {},
   "outputs": [],
   "source": [
    "## Vector search db in pinecone\n",
    "\n",
    "from pinecone import Pinecone, ServerlessSpec\n",
    "\n",
    "if not os.getenv(\"PINECONE_API_KEY\"):\n",
    "    print(\"GIVE API KEY in .env\")\n",
    "\n",
    "pinecone_api_key = os.environ.get(\"PINECONE_API_KEY\")\n",
    "pc = Pinecone(api_key=pinecone_api_key)"
   ]
  },
  {
   "cell_type": "code",
   "execution_count": 10,
   "metadata": {},
   "outputs": [],
   "source": [
    "index = pc.Index('langchain-vector')"
   ]
  },
  {
   "cell_type": "code",
   "execution_count": 11,
   "metadata": {},
   "outputs": [],
   "source": [
    "from langchain_pinecone import PineconeVectorStore\n",
    "\n",
    "vector_store = PineconeVectorStore(index=index, embedding=embeddings)"
   ]
  },
  {
   "cell_type": "code",
   "execution_count": 13,
   "metadata": {},
   "outputs": [
    {
     "data": {
      "text/plain": [
       "['6116fac6-a005-4c49-b82c-66c56142d5f0',\n",
       " '3fa032cd-6f9f-4762-891a-94edd4c27602',\n",
       " 'e1b7e1cd-6e97-4164-b136-4810fd2c26d3',\n",
       " '956eb0f9-e65c-4861-899a-94829f704230',\n",
       " '9a00d993-9755-44c9-b60c-9086337b5aec',\n",
       " 'e881ab8f-af89-4693-8f33-ece9cf59bc86',\n",
       " 'eac07bfb-1e60-4901-bac5-d6a008652011',\n",
       " '8d434e58-6337-4515-b42c-0e715e6ab070',\n",
       " '33cdc248-51c3-4952-820f-12ce47d32cb7',\n",
       " '11074c3b-292f-4c9c-9876-67802bc2f655',\n",
       " '24898bc5-64ac-438b-a9cc-925809f19c26',\n",
       " '6aa14621-878b-4b16-8bb6-3c57e0e3d129',\n",
       " '2931a03c-5963-4976-bb4d-a1a4592d10f4',\n",
       " '0c999718-1093-41b8-81f0-fcd7249d2c67',\n",
       " '5a83c2bd-f09a-4872-8042-a499d6110a77',\n",
       " 'd520c3ab-1c02-4da8-8e83-66a9eb399fe5',\n",
       " '87b85e9d-b891-48c3-bc4d-fe8c1c5bb96e',\n",
       " '66a8289e-5d1e-45ec-b6de-c203336c2ca1',\n",
       " 'b7914b61-a2fe-442a-97ee-0c2b9472d663',\n",
       " 'f4ba1c35-e81d-4361-9dab-a3e936c032a2',\n",
       " '23aac91e-03b7-46f1-8f8c-4a7b51f985fc',\n",
       " '404c8019-a877-455a-b3f2-f208d3d213ae',\n",
       " '5ef323e4-4024-4d2d-a3fc-27fcc13d4c0d',\n",
       " '0b7511b3-2d32-4fea-9326-cb3cacfb364d',\n",
       " '1072d022-c017-4307-9484-65a8d27bfca8',\n",
       " 'f71a3bc7-d969-49cf-b7ed-55350619e6dd',\n",
       " '174af7d2-75f9-4538-bbef-e55dccc5a82b',\n",
       " 'b82e0cff-60e1-4d18-ae00-81bd638bf4dc',\n",
       " '3b9b2b32-075f-42be-9bf6-9abb5eaee8f9',\n",
       " '7098a946-4877-42e9-be88-b5b49c1eb6eb',\n",
       " '209c3019-c46f-4a86-9b5a-838ac3b68c0b',\n",
       " '80fdde0e-be20-45e2-87b6-770b0c78a87e',\n",
       " '3d36aab3-7fde-4148-bc6a-b9d96649aec3',\n",
       " '194d2a03-6045-4cf2-9d41-b87d75762adc',\n",
       " 'a496aa4d-51d5-4de3-9071-aa19eafdb42d',\n",
       " '8ab6dc66-6b6c-4c8c-b0a9-e3b56e802f42',\n",
       " '89e748b7-6777-4e18-a862-c50798a8e949',\n",
       " 'a8897f4b-0690-400f-b4cd-8626c323d231',\n",
       " '4cc5acc0-e9d9-4d6a-a43e-06226c76bf67',\n",
       " 'af239a81-141e-43f6-ba03-3f0b2d932fc9',\n",
       " '348147b7-578e-424b-b5f2-b8cbda0a2674',\n",
       " 'b08cb2ae-0de0-4b05-b386-a102e3f87c41',\n",
       " '67a63b8f-046f-43ae-854a-abb9ca2e697f',\n",
       " '2840dadd-f223-4473-9bdf-5087d593affd',\n",
       " 'dea4c02e-68e1-4d54-b215-83dd749b4c90',\n",
       " 'c45b6dec-ba34-4574-85a0-f5689885d1b7',\n",
       " 'f2185616-704a-4441-89ba-79d8dc7794af',\n",
       " 'ea5720b8-1ee8-4a1f-ad70-972070b56d1b',\n",
       " '7899bc60-65f7-4915-8b32-44dd80aeeb7d',\n",
       " '76ce4b33-6770-4bd6-93a3-e504bcb04b3b',\n",
       " 'b6a82bda-dd63-434a-af62-4bddac10be12',\n",
       " '3031c329-c95c-42d7-b6b5-cb69db76e73b',\n",
       " 'ad17b58f-825d-4e9f-82a4-327ef4174dc6',\n",
       " '7510ebb5-7145-4067-ac9d-ff56a7cafe98',\n",
       " '252e996e-624a-4c8f-91a2-4b6743360f41',\n",
       " '7cc79492-bf15-48ab-b6b3-b41696e18c7b',\n",
       " '13ddc54b-7e6e-4041-8dba-5e639817a6d5',\n",
       " '0e81d9aa-144f-4ef9-a4e2-d692f60d6df2']"
      ]
     },
     "execution_count": 13,
     "metadata": {},
     "output_type": "execute_result"
    }
   ],
   "source": [
    "vector_store.add_documents(doc)"
   ]
  },
  {
   "cell_type": "code",
   "execution_count": null,
   "metadata": {},
   "outputs": [],
   "source": []
  },
  {
   "cell_type": "code",
   "execution_count": 14,
   "metadata": {},
   "outputs": [],
   "source": [
    "# cosine similarity retrieve results\n",
    "def retrieve_query(query,k=2):\n",
    "    matching_results=vector_store.similarity_search(query,k=k)\n",
    "    return matching_results"
   ]
  },
  {
   "cell_type": "code",
   "execution_count": 29,
   "metadata": {},
   "outputs": [],
   "source": [
    "## Search answers from VectorDB\n",
    "def retrieve_docs(query):\n",
    "    doc_search=retrieve_query(query)\n",
    "    return doc_search"
   ]
  },
  {
   "cell_type": "code",
   "execution_count": 30,
   "metadata": {},
   "outputs": [
    {
     "name": "stdout",
     "output_type": "stream",
     "text": [
      "[Document(id='24898bc5-64ac-438b-a9cc-925809f19c26', metadata={'page': 10.0, 'source': '..\\\\Data\\\\budget_speech.pdf'}, page_content=\"7 \\n \\n \\n farmers in contributing to the health of fellow citizens by growing these \\n‘Shree Anna’.   \\n22. Now to make India a global hub for ' Shree Anna' , the Indian Institute \\nof Millet Research, Hyderabad  will be supported as the Centre of Excellence \\nfor sharing best practices, research and technologies at the international \\nlevel.    \\nAgriculture Credit  \\n23. The agriculture credit target will be increased  \\nto ` 20 lakh crore with focus on animal husbandry, dairy and fisheries.  \\nFisheries \\n24. We will launch a new sub-scheme of PM Matsya Sampada Yojana \\nwith targeted investment of ` 6,000 crore to further enable activities of \\nfishermen, fish vendors, and micro & small enterprises, improve value chain \\nefficiencies, and expand the market. \\nCooperation \\n25. For farmers, especially small and marginal farmers, and other \\nmarginalised sections, the government is promoting cooperative-based \\neconomic development model. A new Ministry of Cooperation was formed \\nwith a mandate to realise the vision of ‘Sahakar Se Samriddhi’ . To realise \\nthis vision, the government has already initiated computerisation of 63,000 \\nPrimary Agricultural Credit Societies (PACS) with an investment of ` 2,516 \\ncrore. In consultation with all stakeholders and states, model bye-laws for \\nPACS were formulated enabling them to become multipurpose PACS. A \\nnational cooperative database is being prepared for country-wide mapping \\nof cooperative societies.  \\n26. With this backdrop, we will implement a plan to set up massive \\ndecentralised storage capacity. This will help farmers store their produce \\nand realize remunerative prices through sale at appropriate times. The \\ngovernment will also facilitate setting up of a large number of multipurpose \"), Document(id='33cdc248-51c3-4952-820f-12ce47d32cb7', metadata={'page': 8.0, 'source': '..\\\\Data\\\\budget_speech.pdf'}, page_content='5 \\n \\n \\n 4) Green Growth: We are implementing many programmes for green \\nfuel, green energy, green farming, green mobility, green buildings, \\nand green equipment, and policies for efficient use of energy across \\nvarious economic sectors. These green growth efforts help in \\nreducing carbon intensity of the economy and provides for large-\\nscale green job opportunities.  \\nPriorities of this Budget  \\n14. The Budget adopts the following seven priorities. They complement \\neach other and act as the ‘Saptarishi’  guiding us through the Amrit Kaal.  \\n1) Inclusive Development  \\n2) Reaching the Last Mile \\n3) Infrastructure and Investment \\n4) Unleashing the Potential \\n5) Green Growth \\n6) Youth Power  \\n7) Financial Sector \\nPriority 1: Inclusive Development  \\n15. The Government’s philosophy of Sabka Saath Sabka Vikas  has \\nfacilitated inclusive development covering in specific, farmers, women, \\nyouth, OBCs, Scheduled Castes, Scheduled Tribes, divyangjan and \\neconomically weaker sections, and overall priority for the underprivileged \\n(vanchiton ko variyata ). There has also been a sustained focus on Jammu & \\nKashmir, Ladakh and the North-East. This Budget builds on those efforts.  \\nAgriculture and Cooperation   \\nDigital Public Infrastructure for Agriculture \\n16. Digital public infrastructure for agriculture will be built as an open \\nsource, open standard and inter operable public good. This will enable ')]\n"
     ]
    }
   ],
   "source": [
    "our_query = \"How much the agriculture target will be increased by how many crore?\"\n",
    "docs = retrieve_docs(our_query)\n",
    "print(docs)"
   ]
  },
  {
   "cell_type": "code",
   "execution_count": 38,
   "metadata": {},
   "outputs": [],
   "source": [
    "from langchain.chains.question_answering import load_qa_chain\n",
    "from langchain.prompts import PromptTemplate\n",
    "def get_llm_response(query):\n",
    "    prompt_template = \"\"\"\n",
    "    Answer the question from the given context in a very deteailed manner\n",
    "    Context:\\n {context}?\\n\n",
    "    Question: \\n{question}\\n\n",
    "\n",
    "    Answer:\n",
    "    \"\"\"\n",
    "    \n",
    "    llm = ChatGoogleGenerativeAI(model=\"gemini-pro\", temperature=0.5)\n",
    "    prompt = PromptTemplate(template = prompt_template, input_variables = [\"context\", \"question\"])\n",
    "    chain = load_qa_chain(llm, chain_type=\"stuff\", prompt=prompt)\n",
    "    retrieve_documents = retrieve_docs(query)\n",
    "    # response = chain.run(input_documents = retrieve_documents, question = query)\n",
    "    response = chain(\n",
    "        {\"input_documents\":docs, \"question\": query}\n",
    "        , return_only_outputs=True)\n",
    "    return response"
   ]
  },
  {
   "cell_type": "code",
   "execution_count": 39,
   "metadata": {},
   "outputs": [
    {
     "name": "stdout",
     "output_type": "stream",
     "text": [
      "{'output_text': 'The agriculture credit target will be increased  \\nto ` 20 lakh crore with focus on animal husbandry, dairy and fisheries.'}\n"
     ]
    }
   ],
   "source": [
    "our_query = \"How much the agriculture target will be increased by how many crore?\"\n",
    "llm_response = get_llm_response(our_query)\n",
    "print(llm_response)"
   ]
  },
  {
   "cell_type": "code",
   "execution_count": null,
   "metadata": {},
   "outputs": [],
   "source": []
  }
 ],
 "metadata": {
  "kernelspec": {
   "display_name": ".venv",
   "language": "python",
   "name": "python3"
  },
  "language_info": {
   "codemirror_mode": {
    "name": "ipython",
    "version": 3
   },
   "file_extension": ".py",
   "mimetype": "text/x-python",
   "name": "python",
   "nbconvert_exporter": "python",
   "pygments_lexer": "ipython3",
   "version": "3.10.4"
  }
 },
 "nbformat": 4,
 "nbformat_minor": 2
}
